{
 "cells": [
  {
   "cell_type": "code",
   "execution_count": 145,
   "metadata": {},
   "outputs": [],
   "source": [
    "%matplotlib inline\n",
    "\n",
    "import os \n",
    "import numpy as np\n",
    "import pandas as pd\n",
    "import matplotlib.pyplot as plt\n",
    "from keras.preprocessing.image import load_img, img_to_array"
   ]
  },
  {
   "cell_type": "code",
   "execution_count": 146,
   "metadata": {
    "scrolled": false
   },
   "outputs": [
    {
     "name": "stdout",
     "output_type": "stream",
     "text": [
      "成熟\n",
      "陰沈\n",
      "搞怪\n",
      "清純可愛\n",
      "知性\n",
      "陽光開朗\n",
      "性感\n",
      "老實\n"
     ]
    }
   ],
   "source": [
    "labels = {\"成熟\": 0, \"陰沈\": 1, \"搞怪\": 2, \"清純可愛\": 3, \"知性\": 4, \"陽光開朗\": 5, \"性感\": 6, \"老實\": 7}\n",
    "train_x = []\n",
    "train_y = []\n",
    "\n",
    "for i in labels.keys():\n",
    "    path = f\"/Volumes/FUJITSU/{i}\" \n",
    "    files= os.listdir(path)\n",
    "    print(i)\n",
    "    for file in files:\n",
    "        if not os.path.isdir(file):\n",
    "            img = load_img(f\"{path}/{file}\")\n",
    "            train_x.append(img_to_array(img))\n",
    "            train_y.append(labels[i])\n",
    "train_x = np.array(train_x)\n",
    "train_y = np.array(train_y)"
   ]
  },
  {
   "cell_type": "code",
   "execution_count": 147,
   "metadata": {},
   "outputs": [
    {
     "data": {
      "text/plain": [
       "array([0, 0, 0, ..., 7, 7, 7])"
      ]
     },
     "execution_count": 147,
     "metadata": {},
     "output_type": "execute_result"
    }
   ],
   "source": [
    "train_y"
   ]
  },
  {
   "cell_type": "code",
   "execution_count": 148,
   "metadata": {},
   "outputs": [],
   "source": [
    "from keras.utils import np_utils # one-hot encoding\n",
    "\n",
    "train_y = np_utils.to_categorical(train_y, 8)\n",
    "train_x = train_x / 255"
   ]
  },
  {
   "cell_type": "code",
   "execution_count": 149,
   "metadata": {},
   "outputs": [],
   "source": [
    "from keras.models import Sequential\n",
    "from keras.layers import Dense, Activation, Flatten\n",
    "from keras.layers import Conv2D, MaxPool2D"
   ]
  },
  {
   "cell_type": "code",
   "execution_count": 150,
   "metadata": {},
   "outputs": [],
   "source": [
    "face_cf = Sequential()"
   ]
  },
  {
   "cell_type": "code",
   "execution_count": 151,
   "metadata": {},
   "outputs": [],
   "source": [
    "# conv --> maxpool --> conv --> maxpool --> conv --> maxpool\n",
    "face_cf.add(Conv2D(2, (9, 9), padding=\"same\", input_shape=(218, 178, 3), activation=\"relu\"))\n",
    "face_cf.add(MaxPool2D(pool_size=(3,3)))\n",
    "face_cf.add(Conv2D(4, (9, 9), padding=\"same\", activation=\"relu\"))\n",
    "face_cf.add(MaxPool2D(pool_size=(3,3)))\n",
    "face_cf.add(Conv2D(8, (9, 9), padding=\"same\", activation=\"relu\"))\n",
    "face_cf.add(MaxPool2D(pool_size=(3,3)))\n",
    "\n",
    "# 進入 fully connected 前需要拉平\n",
    "face_cf.add(Flatten())\n",
    "face_cf.add(Dense(10, activation=\"relu\"))\n",
    "face_cf.add(Dense(20, activation=\"relu\"))\n",
    "face_cf.add(Dense(8, activation=\"softmax\"))"
   ]
  },
  {
   "cell_type": "code",
   "execution_count": 152,
   "metadata": {},
   "outputs": [
    {
     "name": "stdout",
     "output_type": "stream",
     "text": [
      "Model: \"sequential_9\"\n",
      "_________________________________________________________________\n",
      "Layer (type)                 Output Shape              Param #   \n",
      "=================================================================\n",
      "conv2d_26 (Conv2D)           (None, 218, 178, 2)       488       \n",
      "_________________________________________________________________\n",
      "max_pooling2d_25 (MaxPooling (None, 72, 59, 2)         0         \n",
      "_________________________________________________________________\n",
      "conv2d_27 (Conv2D)           (None, 72, 59, 4)         652       \n",
      "_________________________________________________________________\n",
      "max_pooling2d_26 (MaxPooling (None, 24, 19, 4)         0         \n",
      "_________________________________________________________________\n",
      "conv2d_28 (Conv2D)           (None, 24, 19, 8)         2600      \n",
      "_________________________________________________________________\n",
      "max_pooling2d_27 (MaxPooling (None, 8, 6, 8)           0         \n",
      "_________________________________________________________________\n",
      "flatten_9 (Flatten)          (None, 384)               0         \n",
      "_________________________________________________________________\n",
      "dense_33 (Dense)             (None, 10)                3850      \n",
      "_________________________________________________________________\n",
      "dense_34 (Dense)             (None, 20)                220       \n",
      "_________________________________________________________________\n",
      "dense_35 (Dense)             (None, 8)                 168       \n",
      "=================================================================\n",
      "Total params: 7,978\n",
      "Trainable params: 7,978\n",
      "Non-trainable params: 0\n",
      "_________________________________________________________________\n"
     ]
    }
   ],
   "source": [
    "face_cf.summary()"
   ]
  },
  {
   "cell_type": "code",
   "execution_count": 153,
   "metadata": {},
   "outputs": [],
   "source": [
    "face_cf.compile(loss=\"mse\", optimizer=\"adam\", metrics=[\"accuracy\"])"
   ]
  },
  {
   "cell_type": "code",
   "execution_count": null,
   "metadata": {},
   "outputs": [
    {
     "name": "stdout",
     "output_type": "stream",
     "text": [
      "Epoch 1/10\n",
      "2362/2362 [==============================] - 133s 57ms/step - loss: 0.1095 - accuracy: 0.0830\n",
      "Epoch 2/10\n",
      "2362/2362 [==============================] - 140s 59ms/step - loss: 0.1093 - accuracy: 0.1859\n",
      "Epoch 3/10\n",
      "2362/2362 [==============================] - 151s 64ms/step - loss: 0.1093 - accuracy: 0.2070\n",
      "Epoch 4/10\n",
      "2362/2362 [==============================] - 145s 62ms/step - loss: 0.1093 - accuracy: 0.2125\n",
      "Epoch 5/10\n",
      "2362/2362 [==============================] - 137s 58ms/step - loss: 0.1092 - accuracy: 0.2096\n",
      "Epoch 6/10\n",
      "2362/2362 [==============================] - 152s 64ms/step - loss: 0.1092 - accuracy: 0.2087\n",
      "Epoch 7/10\n",
      "2362/2362 [==============================] - 168s 71ms/step - loss: 0.1091 - accuracy: 0.2075\n",
      "Epoch 8/10\n",
      "2362/2362 [==============================] - 145s 61ms/step - loss: 0.1091 - accuracy: 0.2045\n",
      "Epoch 9/10\n",
      "1000/2362 [===========>..................] - ETA: 1:20 - loss: 0.1090 - accuracy: 0.2040"
     ]
    }
   ],
   "source": [
    "face_cf.fit(train_x, train_y, batch_size=1000, epochs=10)"
   ]
  },
  {
   "cell_type": "code",
   "execution_count": null,
   "metadata": {},
   "outputs": [],
   "source": []
  }
 ],
 "metadata": {
  "kernelspec": {
   "display_name": "Python 3",
   "language": "python",
   "name": "python3"
  }
 },
 "nbformat": 4,
 "nbformat_minor": 2
}
