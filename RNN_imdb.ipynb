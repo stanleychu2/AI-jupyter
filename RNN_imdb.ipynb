{
 "cells": [
  {
   "cell_type": "code",
   "execution_count": 1,
   "metadata": {},
   "outputs": [],
   "source": [
    "%matplotlib inline\n",
    "\n",
    "import numpy as np \n",
    "import matplotlib.pyplot as plt\n",
    "import pandas as pd"
   ]
  },
  {
   "cell_type": "code",
   "execution_count": 2,
   "metadata": {},
   "outputs": [
    {
     "name": "stderr",
     "output_type": "stream",
     "text": [
      "Using TensorFlow backend.\n"
     ]
    }
   ],
   "source": [
    "from keras.datasets import imdb"
   ]
  },
  {
   "cell_type": "code",
   "execution_count": 3,
   "metadata": {},
   "outputs": [],
   "source": [
    "(train_x, train_y), (test_x, test_y) = imdb.load_data(num_words=10000) # 有 10000 種不同的字"
   ]
  },
  {
   "cell_type": "code",
   "execution_count": 4,
   "metadata": {},
   "outputs": [],
   "source": [
    "from keras.preprocessing import sequence"
   ]
  },
  {
   "cell_type": "code",
   "execution_count": 8,
   "metadata": {},
   "outputs": [
    {
     "data": {
      "text/plain": [
       "array([1415,   33,    6,   22,   12,  215,   28,   77,   52,    5,   14,\n",
       "        407,   16,   82,    2,    8,    4,  107,  117, 5952,   15,  256,\n",
       "          4,    2,    7, 3766,    5,  723,   36,   71,   43,  530,  476,\n",
       "         26,  400,  317,   46,    7,    4,    2, 1029,   13,  104,   88,\n",
       "          4,  381,   15,  297,   98,   32, 2071,   56,   26,  141,    6,\n",
       "        194, 7486,   18,    4,  226,   22,   21,  134,  476,   26,  480,\n",
       "          5,  144,   30, 5535,   18,   51,   36,   28,  224,   92,   25,\n",
       "        104,    4,  226,   65,   16,   38, 1334,   88,   12,   16,  283,\n",
       "          5,   16, 4472,  113,  103,   32,   15,   16, 5345,   19,  178,\n",
       "         32], dtype=int32)"
      ]
     },
     "execution_count": 8,
     "metadata": {},
     "output_type": "execute_result"
    }
   ],
   "source": [
    "# 限制最大的長度為 100\n",
    "train_x = sequence.pad_sequences(train_x, maxlen=100)\n",
    "test_x = sequence.pad_sequences(test_x, maxlen=100)\n",
    "train_x[0]"
   ]
  },
  {
   "cell_type": "code",
   "execution_count": 6,
   "metadata": {},
   "outputs": [],
   "source": [
    "from keras.models import Sequential\n",
    "from keras.layers import LSTM, Dense, Embedding"
   ]
  },
  {
   "cell_type": "code",
   "execution_count": 16,
   "metadata": {},
   "outputs": [],
   "source": [
    "rnn = Sequential()"
   ]
  },
  {
   "cell_type": "code",
   "execution_count": 17,
   "metadata": {},
   "outputs": [],
   "source": [
    "# 透過 Embedding 把 10000 種的文字(10000 維)壓縮到 3 維\n",
    "rnn.add(Embedding(10000, 3))\n",
    "rnn.add(LSTM(20))\n",
    "rnn.add(Dense(1, activation=\"sigmoid\"))"
   ]
  },
  {
   "cell_type": "code",
   "execution_count": 19,
   "metadata": {},
   "outputs": [
    {
     "name": "stdout",
     "output_type": "stream",
     "text": [
      "Model: \"sequential_3\"\n",
      "_________________________________________________________________\n",
      "Layer (type)                 Output Shape              Param #   \n",
      "=================================================================\n",
      "embedding_3 (Embedding)      (None, None, 3)           30000     \n",
      "_________________________________________________________________\n",
      "lstm_4 (LSTM)                (None, 20)                1920      \n",
      "_________________________________________________________________\n",
      "dense_2 (Dense)              (None, 1)                 21        \n",
      "=================================================================\n",
      "Total params: 31,941\n",
      "Trainable params: 31,941\n",
      "Non-trainable params: 0\n",
      "_________________________________________________________________\n"
     ]
    }
   ],
   "source": [
    "rnn.summary()"
   ]
  },
  {
   "cell_type": "code",
   "execution_count": null,
   "metadata": {},
   "outputs": [],
   "source": [
    "4*(13*10 + 10) --> 3 Gate + 1 tanh = 4"
   ]
  },
  {
   "cell_type": "code",
   "execution_count": 21,
   "metadata": {},
   "outputs": [],
   "source": [
    "rnn.compile(loss=\"binary_crossentropy\", optimizer=\"adam\", metrics=['accuracy'])"
   ]
  },
  {
   "cell_type": "code",
   "execution_count": 22,
   "metadata": {},
   "outputs": [
    {
     "name": "stderr",
     "output_type": "stream",
     "text": [
      "/usr/local/lib/python3.7/site-packages/tensorflow_core/python/framework/indexed_slices.py:424: UserWarning: Converting sparse IndexedSlices to a dense Tensor of unknown shape. This may consume a large amount of memory.\n",
      "  \"Converting sparse IndexedSlices to a dense Tensor of unknown shape. \"\n"
     ]
    },
    {
     "name": "stdout",
     "output_type": "stream",
     "text": [
      "Epoch 1/20\n",
      "25000/25000 [==============================] - 51s 2ms/step - loss: 0.4682 - accuracy: 0.7642\n",
      "Epoch 2/20\n",
      "25000/25000 [==============================] - 42s 2ms/step - loss: 0.2834 - accuracy: 0.8834\n",
      "Epoch 3/20\n",
      "25000/25000 [==============================] - 41s 2ms/step - loss: 0.2365 - accuracy: 0.9088\n",
      "Epoch 4/20\n",
      "25000/25000 [==============================] - 41s 2ms/step - loss: 0.2011 - accuracy: 0.9259\n",
      "Epoch 5/20\n",
      "25000/25000 [==============================] - 42s 2ms/step - loss: 0.1754 - accuracy: 0.9368\n",
      "Epoch 6/20\n",
      "25000/25000 [==============================] - 41s 2ms/step - loss: 0.1605 - accuracy: 0.9437\n",
      "Epoch 7/20\n",
      "25000/25000 [==============================] - 46s 2ms/step - loss: 0.1460 - accuracy: 0.9500\n",
      "Epoch 8/20\n",
      "25000/25000 [==============================] - 46s 2ms/step - loss: 0.1304 - accuracy: 0.9569\n",
      "Epoch 9/20\n",
      "25000/25000 [==============================] - 48s 2ms/step - loss: 0.1231 - accuracy: 0.9588\n",
      "Epoch 10/20\n",
      "25000/25000 [==============================] - 47s 2ms/step - loss: 0.1151 - accuracy: 0.9615\n",
      "Epoch 11/20\n",
      "25000/25000 [==============================] - 48s 2ms/step - loss: 0.1044 - accuracy: 0.9674\n",
      "Epoch 12/20\n",
      "25000/25000 [==============================] - 47s 2ms/step - loss: 0.0953 - accuracy: 0.9699\n",
      "Epoch 13/20\n",
      "25000/25000 [==============================] - 46s 2ms/step - loss: 0.0928 - accuracy: 0.9722\n",
      "Epoch 14/20\n",
      "25000/25000 [==============================] - 46s 2ms/step - loss: 0.0837 - accuracy: 0.9748\n",
      "Epoch 15/20\n",
      "25000/25000 [==============================] - 48s 2ms/step - loss: 0.0782 - accuracy: 0.9773\n",
      "Epoch 16/20\n",
      "25000/25000 [==============================] - 44s 2ms/step - loss: 0.0696 - accuracy: 0.9806\n",
      "Epoch 17/20\n",
      "25000/25000 [==============================] - 43s 2ms/step - loss: 0.0644 - accuracy: 0.9819\n",
      "Epoch 18/20\n",
      "25000/25000 [==============================] - 50s 2ms/step - loss: 0.0654 - accuracy: 0.9807\n",
      "Epoch 19/20\n",
      "25000/25000 [==============================] - 71s 3ms/step - loss: 0.0585 - accuracy: 0.9832\n",
      "Epoch 20/20\n",
      "25000/25000 [==============================] - 51s 2ms/step - loss: 0.0535 - accuracy: 0.9846\n"
     ]
    },
    {
     "data": {
      "text/plain": [
       "<keras.callbacks.callbacks.History at 0x13131af10>"
      ]
     },
     "execution_count": 22,
     "metadata": {},
     "output_type": "execute_result"
    }
   ],
   "source": [
    "# 每一筆資料都是一個字一個字輸入，但直到最後一個字才會輸出一個 output\n",
    "rnn.fit(train_x, train_y, batch_size=35, epochs=20)"
   ]
  },
  {
   "cell_type": "code",
   "execution_count": 23,
   "metadata": {},
   "outputs": [
    {
     "name": "stdout",
     "output_type": "stream",
     "text": [
      "25000/25000 [==============================] - 14s 558us/step\n"
     ]
    }
   ],
   "source": [
    "score = rnn.evaluate(test_x, test_y)"
   ]
  },
  {
   "cell_type": "code",
   "execution_count": 24,
   "metadata": {},
   "outputs": [
    {
     "name": "stdout",
     "output_type": "stream",
     "text": [
      "正確率：90.96%\n",
      "loss：0.80\n"
     ]
    }
   ],
   "source": [
    "print(\"正確率：%.2f%%\" % (score[0]*100))\n",
    "print(\"loss：%.2f\" % score[1])"
   ]
  },
  {
   "cell_type": "code",
   "execution_count": null,
   "metadata": {},
   "outputs": [],
   "source": [
    "bert 遷移是學習\n",
    "GPT-2\n",
    "OpenAI"
   ]
  },
  {
   "cell_type": "code",
   "execution_count": 16,
   "metadata": {},
   "outputs": [
    {
     "data": {
      "text/plain": [
       "(25000, 100)"
      ]
     },
     "execution_count": 16,
     "metadata": {},
     "output_type": "execute_result"
    }
   ],
   "source": [
    "train_x.shape"
   ]
  }
 ],
 "metadata": {
  "kernelspec": {
   "display_name": "Python 3",
   "language": "python",
   "name": "python3"
  },
  "language_info": {
   "codemirror_mode": {
    "name": "ipython",
    "version": 3
   },
   "file_extension": ".py",
   "mimetype": "text/x-python",
   "name": "python",
   "nbconvert_exporter": "python",
   "pygments_lexer": "ipython3",
   "version": "3.7.4"
  }
 },
 "nbformat": 4,
 "nbformat_minor": 2
}
