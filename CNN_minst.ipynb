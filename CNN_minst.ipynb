{
 "cells": [
  {
   "cell_type": "code",
   "execution_count": 103,
   "metadata": {},
   "outputs": [],
   "source": [
    "%matplotlib inline\n",
    "\n",
    "import matplotlib.pyplot as plt\n",
    "import numpy as np\n",
    "\n",
    "from keras.datasets import fashion_mnist"
   ]
  },
  {
   "cell_type": "code",
   "execution_count": 104,
   "metadata": {},
   "outputs": [
    {
     "name": "stdout",
     "output_type": "stream",
     "text": [
      "Downloading data from http://fashion-mnist.s3-website.eu-central-1.amazonaws.com/train-labels-idx1-ubyte.gz\n",
      "32768/29515 [=================================] - 0s 9us/step\n",
      "Downloading data from http://fashion-mnist.s3-website.eu-central-1.amazonaws.com/train-images-idx3-ubyte.gz\n",
      "26427392/26421880 [==============================] - 13s 0us/step\n",
      "Downloading data from http://fashion-mnist.s3-website.eu-central-1.amazonaws.com/t10k-labels-idx1-ubyte.gz\n",
      "8192/5148 [===============================================] - 0s 0us/step\n",
      "Downloading data from http://fashion-mnist.s3-website.eu-central-1.amazonaws.com/t10k-images-idx3-ubyte.gz\n",
      "4423680/4422102 [==============================] - 3s 1us/step\n"
     ]
    }
   ],
   "source": [
    "(train_x, train_y), (test_x, test_y) = fashion_mnist.load_data()"
   ]
  },
  {
   "cell_type": "code",
   "execution_count": 105,
   "metadata": {},
   "outputs": [
    {
     "data": {
      "text/plain": [
       "<matplotlib.image.AxesImage at 0x13032bd50>"
      ]
     },
     "execution_count": 105,
     "metadata": {},
     "output_type": "execute_result"
    },
    {
     "data": {
      "image/png": "[encoded data removed]",
      "text/plain": [
       "<Figure size 432x288 with 1 Axes>"
      ]
     },
     "metadata": {
      "needs_background": "light"
     },
     "output_type": "display_data"
    }
   ],
   "source": [
    "plt.imshow(train_x[0], cmap=\"Greys\")"
   ]
  },
  {
   "cell_type": "code",
   "execution_count": 106,
   "metadata": {},
   "outputs": [],
   "source": [
    "# shape 需要特別的規定\n",
    "train_x = train_x.reshape(60000, 28, 28, 1)\n",
    "test_x = test_x.reshape(10000, 28, 28, 1)"
   ]
  },
  {
   "cell_type": "code",
   "execution_count": 107,
   "metadata": {},
   "outputs": [],
   "source": [
    "from keras.utils import np_utils # one-hot encoding"
   ]
  },
  {
   "cell_type": "code",
   "execution_count": 108,
   "metadata": {},
   "outputs": [],
   "source": [
    "train_y = np_utils.to_categorical(train_y, 10)\n",
    "test_y = np_utils.to_categorical(test_y, 10)"
   ]
  },
  {
   "cell_type": "code",
   "execution_count": 109,
   "metadata": {},
   "outputs": [],
   "source": [
    "train_x = train_x / 255\n",
    "test_x = test_x / 255"
   ]
  },
  {
   "cell_type": "code",
   "execution_count": 110,
   "metadata": {},
   "outputs": [],
   "source": [
    "# 感受野 filter 的邊長通常都以奇數為主\n",
    "# filter 的個數大部份會越來越多來解決後面越來越複雜的問題\n",
    "\n",
    "from keras.models import Sequential\n",
    "from keras.layers import Dense, Activation, Flatten\n",
    "from keras.layers import Conv2D, MaxPool2D\n",
    "from keras.optimizers import SGD"
   ]
  },
  {
   "cell_type": "code",
   "execution_count": 152,
   "metadata": {},
   "outputs": [],
   "source": [
    "model = Sequential()"
   ]
  },
  {
   "cell_type": "code",
   "execution_count": 153,
   "metadata": {},
   "outputs": [],
   "source": [
    "# conv --> maxpool --> conv --> maxpool --> conv --> maxpool\n",
    "model.add(Conv2D(16, (3, 3), padding=\"same\", input_shape=(28, 28, 1), activation=\"relu\"))\n",
    "model.add(MaxPool2D(pool_size=(2,2)))\n",
    "model.add(Conv2D(32, (3,3), padding=\"same\", activation=\"relu\"))\n",
    "model.add(MaxPool2D(pool_size=(2,2)))\n",
    "model.add(Conv2D(64, (3,3), padding=\"same\", activation=\"relu\"))\n",
    "model.add(MaxPool2D(pool_size=(2,2)))\n",
    "# 進入 fully connected 前需要拉平\n",
    "model.add(Flatten())\n",
    "model.add(Dense(40, activation=\"relu\"))\n",
    "model.add(Dense(60, activation=\"relu\"))\n",
    "model.add(Dense(90, activation=\"relu\"))\n",
    "model.add(Dense(10, activation=\"softmax\"))"
   ]
  },
  {
   "cell_type": "code",
   "execution_count": 154,
   "metadata": {},
   "outputs": [
    {
     "name": "stdout",
     "output_type": "stream",
     "text": [
      "Model: \"sequential_7\"\n",
      "_________________________________________________________________\n",
      "Layer (type)                 Output Shape              Param #   \n",
      "=================================================================\n",
      "conv2d_19 (Conv2D)           (None, 28, 28, 16)        160       \n",
      "_________________________________________________________________\n",
      "max_pooling2d_19 (MaxPooling (None, 14, 14, 16)        0         \n",
      "_________________________________________________________________\n",
      "conv2d_20 (Conv2D)           (None, 14, 14, 32)        4640      \n",
      "_________________________________________________________________\n",
      "max_pooling2d_20 (MaxPooling (None, 7, 7, 32)          0         \n",
      "_________________________________________________________________\n",
      "conv2d_21 (Conv2D)           (None, 7, 7, 64)          18496     \n",
      "_________________________________________________________________\n",
      "max_pooling2d_21 (MaxPooling (None, 3, 3, 64)          0         \n",
      "_________________________________________________________________\n",
      "flatten_7 (Flatten)          (None, 576)               0         \n",
      "_________________________________________________________________\n",
      "dense_23 (Dense)             (None, 40)                23080     \n",
      "_________________________________________________________________\n",
      "dense_24 (Dense)             (None, 60)                2460      \n",
      "_________________________________________________________________\n",
      "dense_25 (Dense)             (None, 90)                5490      \n",
      "_________________________________________________________________\n",
      "dense_26 (Dense)             (None, 10)                910       \n",
      "=================================================================\n",
      "Total params: 55,236\n",
      "Trainable params: 55,236\n",
      "Non-trainable params: 0\n",
      "_________________________________________________________________\n"
     ]
    }
   ],
   "source": [
    "model.summary() # (3 x 3 x 4) x 8 + 8"
   ]
  },
  {
   "cell_type": "code",
   "execution_count": 159,
   "metadata": {},
   "outputs": [],
   "source": [
    "model.compile(loss=\"mse\", optimizer=\"adam\", metrics=[\"accuracy\"])"
   ]
  },
  {
   "cell_type": "code",
   "execution_count": 160,
   "metadata": {},
   "outputs": [
    {
     "name": "stdout",
     "output_type": "stream",
     "text": [
      "Epoch 1/25\n",
      "60000/60000 [==============================] - 43s 712us/step - loss: 0.0122 - accuracy: 0.9169\n",
      "Epoch 2/25\n",
      "60000/60000 [==============================] - 37s 615us/step - loss: 0.0114 - accuracy: 0.9219\n",
      "Epoch 3/25\n",
      "60000/60000 [==============================] - 32s 535us/step - loss: 0.0110 - accuracy: 0.9254\n",
      "Epoch 4/25\n",
      "60000/60000 [==============================] - 34s 559us/step - loss: 0.0110 - accuracy: 0.9255\n",
      "Epoch 5/25\n",
      "60000/60000 [==============================] - 34s 568us/step - loss: 0.0109 - accuracy: 0.9263\n",
      "Epoch 6/25\n",
      "60000/60000 [==============================] - 33s 543us/step - loss: 0.0107 - accuracy: 0.9283\n",
      "Epoch 7/25\n",
      "60000/60000 [==============================] - 33s 551us/step - loss: 0.0107 - accuracy: 0.9278\n",
      "Epoch 8/25\n",
      "60000/60000 [==============================] - 28s 471us/step - loss: 0.0104 - accuracy: 0.9297\n",
      "Epoch 9/25\n",
      "60000/60000 [==============================] - 31s 511us/step - loss: 0.0101 - accuracy: 0.9320\n",
      "Epoch 10/25\n",
      "60000/60000 [==============================] - 28s 463us/step - loss: 0.0104 - accuracy: 0.9304\n",
      "Epoch 11/25\n",
      "60000/60000 [==============================] - 30s 497us/step - loss: 0.0098 - accuracy: 0.9344\n",
      "Epoch 12/25\n",
      "60000/60000 [==============================] - 33s 547us/step - loss: 0.0097 - accuracy: 0.9358\n",
      "Epoch 13/25\n",
      "60000/60000 [==============================] - 35s 579us/step - loss: 0.0101 - accuracy: 0.9313\n",
      "Epoch 14/25\n",
      "60000/60000 [==============================] - 28s 472us/step - loss: 0.0093 - accuracy: 0.9389\n",
      "Epoch 15/25\n",
      "60000/60000 [==============================] - 28s 473us/step - loss: 0.0093 - accuracy: 0.9389\n",
      "Epoch 16/25\n",
      "60000/60000 [==============================] - 29s 492us/step - loss: 0.0090 - accuracy: 0.9407\n",
      "Epoch 17/25\n",
      "60000/60000 [==============================] - 32s 538us/step - loss: 0.0089 - accuracy: 0.9419\n",
      "Epoch 18/25\n",
      "60000/60000 [==============================] - 31s 518us/step - loss: 0.0087 - accuracy: 0.9431\n",
      "Epoch 19/25\n",
      "60000/60000 [==============================] - 29s 488us/step - loss: 0.0088 - accuracy: 0.9431\n",
      "Epoch 20/25\n",
      "60000/60000 [==============================] - 29s 486us/step - loss: 0.0085 - accuracy: 0.9449\n",
      "Epoch 21/25\n",
      "60000/60000 [==============================] - 35s 582us/step - loss: 0.0087 - accuracy: 0.9438\n",
      "Epoch 22/25\n",
      "60000/60000 [==============================] - 33s 548us/step - loss: 0.0088 - accuracy: 0.9422\n",
      "Epoch 23/25\n",
      "60000/60000 [==============================] - 30s 507us/step - loss: 0.0081 - accuracy: 0.9478\n",
      "Epoch 24/25\n",
      "60000/60000 [==============================] - 27s 445us/step - loss: 0.0083 - accuracy: 0.9469\n",
      "Epoch 25/25\n",
      "60000/60000 [==============================] - 27s 448us/step - loss: 0.0080 - accuracy: 0.9492\n"
     ]
    },
    {
     "data": {
      "text/plain": [
       "<keras.callbacks.callbacks.History at 0x13938d6d0>"
      ]
     },
     "execution_count": 160,
     "metadata": {},
     "output_type": "execute_result"
    }
   ],
   "source": [
    "model.fit(train_x, train_y, batch_size=1000, epochs=25)"
   ]
  },
  {
   "cell_type": "code",
   "execution_count": 163,
   "metadata": {},
   "outputs": [
    {
     "name": "stdout",
     "output_type": "stream",
     "text": [
      "10000/10000 [==============================] - 2s 194us/step\n"
     ]
    }
   ],
   "source": [
    "score = model.evaluate(test_x, test_y)"
   ]
  },
  {
   "cell_type": "code",
   "execution_count": 164,
   "metadata": {},
   "outputs": [
    {
     "name": "stdout",
     "output_type": "stream",
     "text": [
      "loss：0.01286\n",
      "準確率：91.29%\n"
     ]
    }
   ],
   "source": [
    "print(\"loss：%.5f\\n準確率：%.2f%%\" % (score[0], score[1]*100))"
   ]
  }
 ],
 "metadata": {
  "kernelspec": {
   "display_name": "Python 3",
   "language": "python",
   "name": "python3"
  },
  "language_info": {
   "codemirror_mode": {
    "name": "ipython",
    "version": 3
   },
   "file_extension": ".py",
   "mimetype": "text/x-python",
   "name": "python",
   "nbconvert_exporter": "python",
   "pygments_lexer": "ipython3",
   "version": "3.7.4"
  }
 },
 "nbformat": 4,
 "nbformat_minor": 2
}
